{
 "cells": [
  {
   "cell_type": "markdown",
   "metadata": {},
   "source": [
    "# Clustering FIFA players"
   ]
  },
  {
   "cell_type": "markdown",
   "metadata": {},
   "source": [
    "**FIFA Dataset:** The data set was scraped from [this website](https://sofifa.com/). For non-football enthusiasts, you can check out Wiki website for more clarification about football player's positions. [Find type and meaning of positions here](https://en.wikipedia.org/wiki/Association_football_positions).\n",
    "        \n",
    "Use the 'PlayerPlayingPositionData.csv' data to associate each player’s preferred position. How does this correspond to the clusters that you have obtained by unsupervised learning? Come up with suitable visuals to compare the clusters with the actual preferred positions.\n",
    "        \n",
    "**Topics Trained:** Unsupervised Learning, Feature correlations, Clustering and Outliers detection methods, Visualizations, Pipelines and Model Selection."
   ]
  },
  {
   "cell_type": "code",
   "execution_count": null,
   "metadata": {
    "id": "KXwwm8cjWg-F"
   },
   "outputs": [],
   "source": [
    "a"
   ]
  },
  {
   "cell_type": "code",
   "execution_count": 1,
   "metadata": {
    "colab": {
     "base_uri": "https://localhost:8080/"
    },
    "executionInfo": {
     "elapsed": 271,
     "status": "ok",
     "timestamp": 1643300780853,
     "user": {
      "displayName": "Juan Aguirre Calderon",
      "photoUrl": "https://lh3.googleusercontent.com/a-/AOh14GhyHh70dN0TgxAYqJhRBGCnQBsIPmv6ijh0RosE=s64",
      "userId": "16859179063728102793"
     },
     "user_tz": -60
    },
    "id": "wia30X_fW5Et",
    "outputId": "ecee7374-da64-436b-b5b7-be03cb503f7c"
   },
   "outputs": [
    {
     "name": "stdout",
     "output_type": "stream",
     "text": [
      "fatal: not a git repository (or any of the parent directories): .git\n"
     ]
    }
   ],
   "source": [
    "! git status"
   ]
  },
  {
   "cell_type": "code",
   "execution_count": null,
   "metadata": {
    "id": "axVy_a6iW-UV"
   },
   "outputs": [],
   "source": []
  }
 ],
 "metadata": {
  "colab": {
   "authorship_tag": "ABX9TyN3iKes2EzdwDPBNXKIh8B0",
   "collapsed_sections": [],
   "name": "FIFA_players_analysis.ipynb",
   "provenance": []
  },
  "kernelspec": {
   "display_name": "Python 3 (ipykernel)",
   "language": "python",
   "name": "python3"
  },
  "language_info": {
   "codemirror_mode": {
    "name": "ipython",
    "version": 3
   },
   "file_extension": ".py",
   "mimetype": "text/x-python",
   "name": "python",
   "nbconvert_exporter": "python",
   "pygments_lexer": "ipython3",
   "version": "3.9.7"
  }
 },
 "nbformat": 4,
 "nbformat_minor": 4
}
